{
  "nbformat": 4,
  "nbformat_minor": 0,
  "metadata": {
    "colab": {
      "provenance": []
    },
    "kernelspec": {
      "name": "python3",
      "display_name": "Python 3"
    },
    "language_info": {
      "name": "python"
    }
  },
  "cells": [
    {
      "cell_type": "code",
      "execution_count": null,
      "metadata": {
        "colab": {
          "base_uri": "https://localhost:8080/"
        },
        "id": "4XEXSfByZVCu",
        "outputId": "4d181fa2-39d3-4e3e-e431-046975ace21f"
      },
      "outputs": [
        {
          "name": "stdout",
          "output_type": "stream",
          "text": [
            "Enter the number of cards you want to draw: 6\n"
          ]
        },
        {
          "output_type": "execute_result",
          "data": {
            "text/plain": [
              "('8H', 'QC', '8D', '6S', 'JH', '10H')"
            ]
          },
          "metadata": {},
          "execution_count": 55
        }
      ],
      "source": [
        "# Q1\n",
        "import random\n",
        "\n",
        "num=int(input(\"Enter the number of cards you want to draw: \"))\n",
        "\n",
        "drawn_cards=[]\n",
        "\n",
        "def draw_cards(num_cards):\n",
        "  deck=[]\n",
        "  values=[\"A\",\"2\",\"3\",\"4\", \"5\", \"6\", \"7\", \"8\", \"9\", \"10\", \"J\", \"Q\", \"K\"]\n",
        "  suits=[\"H\", \"D\", \"S\", \"C\"]\n",
        "  for v in values:\n",
        "    for s in suits:\n",
        "      deck.append(v+s)\n",
        "\n",
        "  for i in range(num_cards):\n",
        "    card = random.choice(deck)\n",
        "    drawn_cards.append(card)\n",
        "    deck.remove(card)\n",
        "\n",
        "  return tuple(drawn_cards)\n",
        "\n",
        "\n",
        "draw_cards(num)\n",
        "\n"
      ]
    },
    {
      "cell_type": "code",
      "source": [
        "# Q2\n",
        "\n",
        "from functools import reduce\n",
        "\n",
        "def sum_square_not_divisible_by_3(lis):\n",
        "    square_list = map(lambda i: i**2, lis)\n",
        "    filtered_list = filter(lambda i: i % 3 != 0, square_list)\n",
        "    return reduce(lambda i, j: i + j, filtered_list)\n",
        "\n",
        "\n",
        "sum_square_not_divisible_by_3([1,2,3,5,6,10])\n"
      ],
      "metadata": {
        "colab": {
          "base_uri": "https://localhost:8080/"
        },
        "id": "wcumJ58Di5zK",
        "outputId": "5bc88804-b9a0-4bd1-ee93-d4b2dd723d25"
      },
      "execution_count": null,
      "outputs": [
        {
          "output_type": "execute_result",
          "data": {
            "text/plain": [
              "130"
            ]
          },
          "metadata": {},
          "execution_count": 59
        }
      ]
    },
    {
      "cell_type": "code",
      "source": [
        "# Q3\n",
        "\n",
        "to_cur = str(input(\"Please enter the currency converting to: \")).upper()\n",
        "\n",
        "amount_of_money = float(input(\"Please eneter the amount of money: \"))\n",
        "\n",
        "def convert_currency(amount_of_money, to_cur):\n",
        "    conversion_rates = {\n",
        "    \"AUD\":1.5409,\n",
        "    \"BGN\":1.9558,\n",
        "    \"BRL\":5.6165,\n",
        "    \"CAD\":1.4423,\n",
        "    \"CHF\":0.989,\n",
        "    \"CNY\":7.2992,\n",
        "    \"CZK\":23.698,\n",
        "    \"DKK\":7.4419,\n",
        "    \"GBP\":0.88515,\n",
        "    \"HKD\":8.4551,\n",
        "    \"HUF\":385.8,\n",
        "    \"IDR\":16280,\n",
        "    \"ILS\":3.7576,\n",
        "    \"INR\":88.89,\n",
        "    \"ISK\":151.1,\n",
        "    \"JPY\":140.8,\n",
        "    \"KRW\":1355.38,\n",
        "    \"MXN\":20.329,\n",
        "    \"MYR\":4.6488,\n",
        "    \"NOK\":10.9123,\n",
        "    \"NZD\":1.6906,\n",
        "    \"PHP\":58.659,\n",
        "    \"PLN\":4.7388,\n",
        "    \"RON\":4.8935,\n",
        "    \"SEK\":11.139,\n",
        "    \"SGD\":1.4237,\n",
        "    \"THB\":36.013,\n",
        "    \"TRY\":20.284,\n",
        "    \"USD\":1.0771,\n",
        "    \"ZAR\":19.0134\n",
        "    }\n",
        "    \n",
        "    if to_cur not in conversion_rates:\n",
        "        raise ValueError(\"Unsupported currency symbol\")\n",
        "    \n",
        "    return amount_of_money * conversion_rates[to_cur]\n",
        "\n",
        "result=convert_currency(amount_of_money, to_cur)\n",
        "\n",
        "print( f\"{amount_of_money} USD is {result} {to_cur}\")"
      ],
      "metadata": {
        "colab": {
          "base_uri": "https://localhost:8080/"
        },
        "id": "WR6rtWwUiqdA",
        "outputId": "40f5a3e7-df78-4cdf-d53a-3f2ea1b9a6ec"
      },
      "execution_count": null,
      "outputs": [
        {
          "output_type": "stream",
          "name": "stdout",
          "text": [
            "Please enter the currency converting to: cny\n",
            "Please eneter the amount of money: 65\n",
            "65.0 USD is 474.448 CNY\n"
          ]
        }
      ]
    },
    {
      "cell_type": "code",
      "source": [
        "# Q4\n",
        "from functools import reduce\n",
        "\n",
        "def number_to_word(n):\n",
        "    words = {\n",
        "        0: \"zero\",\n",
        "        1: \"one\",\n",
        "        2: \"two\",\n",
        "        3: \"three\",\n",
        "        4: \"four\",\n",
        "        5: \"five\",\n",
        "        6: \"six\",\n",
        "        7: \"seven\",\n",
        "        8: \"eight\",\n",
        "        9: \"nine\",\n",
        "        10: \"ten\",\n",
        "        11: \"eleven\",\n",
        "        12: \"twelve\",\n",
        "        13: \"thirteen\",\n",
        "        14: \"fourteen\",\n",
        "        15: \"fifteen\",\n",
        "        16: \"sixteen\",\n",
        "        17: \"seventeen\",\n",
        "        18: \"eighteen\",\n",
        "        19: \"nineteen\",\n",
        "        20: \"twenty\"\n",
        "    }\n",
        "    return words[n]\n",
        "\n",
        "numbers = [18, 9, 14, 8, 6, 3, 7, 4, 19, 14, 4, 13, 12, 13, 14, 14, 14, 16, 10, 15, 11, 19, 15, 10, 11, 13, 14, 0, 0, 15, 5, 10, 8, 1, 10, 1, 7, 6, 20, 19, 3, 0, 12, 13, 13, 15, 13, 2, 7, 3, 5, 7, 19, 20, 11, 11, 16, 19, 12, 18, 12, 8, 16, 15, 1, 6, 9, 4, 4, 14, 5, 17, 12, 3, 10, 18, 2, 7, 12, 13, 4, 16, 10, 11, 15, 19, 15, 17, 14, 20, 0, 14, 6, 5, 7, 9, 1, 3, 1, 3, 8, 2, 6, 2, 14, 16, 3, 7, 12, 12, 3, 7, 6, 8, 15, 20, 4, 20, 11, 2]\n",
        "\n",
        "string_versions = list(map(number_to_word, numbers))\n",
        "\n",
        "len_characters = list(map(len, string_versions))\n",
        "\n",
        "total_characters=reduce(lambda i,j: i+j, len_characters)\n",
        "\n",
        "print(total_characters)\n"
      ],
      "metadata": {
        "colab": {
          "base_uri": "https://localhost:8080/"
        },
        "id": "MR-wQsK5oER9",
        "outputId": "14ea7563-6f6f-4378-8ca5-d8c94a890cca"
      },
      "execution_count": null,
      "outputs": [
        {
          "output_type": "stream",
          "name": "stdout",
          "text": [
            "670\n"
          ]
        }
      ]
    },
    {
      "cell_type": "code",
      "source": [
        "# Q5\n",
        "def count_churned_period(listy):\n",
        "  consecutive_0 = 0\n",
        "  is_churned = False\n",
        "  churns = 0\n",
        "  churn_periods = []\n",
        "  for i in listy:\n",
        "      if i == 1:\n",
        "          if consecutive_0 >= 10: churns += 1\n",
        "          consecutive_0 = 0\n",
        "      else:\n",
        "          consecutive_0 += 1\n",
        "      if consecutive_0  >=10:\n",
        "          is_churned=True\n",
        "          churn_periods.append(consecutive_0)\n",
        "  return churns, max(churn_periods)\n",
        "\n",
        "\n",
        "days = [0,0,0,0,1,0,1,0,0,0,0,0,0,0,0,0,1,0,1,0,0,0,0,0,0,0,0,0,0,0,0,0,1,0,0,1,0,0,0,0,0,1,0,1,0,1,0,0,0,1,0,0,0,0,0,0,0,0,1,0,0,1,0,0,1,0,1,0,0,0,0,1,0,0,0,1,0,0,0,0,0,0,0,0,0,0,0,0,0,0,0,0,0,0,0,0,0,0,0,0,0,1,0,0,0,0,0,0,0,0,0,1,0,0,0,0,0,1,0,1,0,0,0,0,0,1,0,0,0,0,0,1,0,0,0,0,1,0,1,0,0,0,0,0,0,1,0,0,0,0,0,0,0,0,0,0,0,0,0,0,0,1,0,0,0,0,0,0,0,0,0,0,0,0,1,0,1,1,1,1,1,0,1,1,0,0,0,1,1,1,0,0,0,1,1,1,0,0,0,0,0,0,0,1,0,0,0,0,0,1,0,0,0,0,0,0,0,0,0,0,0,0,1,1,1,0,1,0,0,1,1,0,0,0,0,0,0,0,1,0,0,0,0,0,0,1,0,0,0,0,0,0,0,1,0,0,0,0,1,0,0,0,0,1,1,0,1,0,0,1,0,0,0,0,0,0,0,0,0,0,0,0,0,1,0,1,0,0,0,0,0,0,0,0,0,1,0,0,0,0,0,0,0,0,0,1,0,0,0,0,0,0,0,0,0,0,1,0,0,0,1,0,1,0,1,0,1,0,0,0,0,0,0,0,0,0,0,0,0,0,0,0,0,0,1,1,0,0,0,0,1,0,0,0,0,0,0,1,1,0,0,1,1,0,0,0,0,0,0,0,0,0,0,0,0,0,0,0,0,1,1,0,1,0,0,0,0,0,0,0,1,0,0,0,0,0,0,0,0,0,0,0,0,0,1,0,0,0,0,0,0,1,0,0,0,0,1,0,0,1,1,0,0,1,0,0,0,0,0,1,0,0,0,1,0,1,0,1,0,0,0,0,0,1,0,0,0,0,1,0,0,0,0,0,0,0,0,1,1,0,0,0,1,0,0,0,0,0,0,0,0,1,1,0,0,1,0,0,0,0,1,0,0,0,1,1,1,1,0,0,0,1,0,0,0,0,0,0,1,1,0,1,0,1,1,0,0,1,1,0,0,0,0,0,0,1,0,0,0,0,0,0,0,0,0,0,0,0,0,0,0,0,1,0,1,0,0,0,0,0,0,0,0,1,0,1,0,0,0,0,0,0,0,0,0,0,0,0,0,0,0,0,0,0,0,0,0,0,0,0,0,0,0,0,0,0,0,0,0,0,0,1,1,0,1,0,0,0,0,0,1,0,0,1,0,0,0,0,0,0,0,0,1,0,0,0,0,0,1,0,0,0,0,0,1,1,0,0,0,1,0,1,0,0,0,0,0,0,0,0,0,0,0,0,0,0,0,0,0,0,0,0,0,1,0,0,0,0,0,0,1,0,0,0,1,0,1,0,1,0,0,1,0,1,1,0,0,0,1,0,0,0,0,0,0,0,0,0,1,1,0,0,1,1,0,0,1,0,0,1,1,0,0,0,0,1,0,1,0,0,0,0,0,1,1,0,0,0,0,0,0,0,1,0,0,0,1,0,0,0,0,0,0,1,0,0,1,0,0,0,1,0,0,1,1,0,0,1,0,0,0,0,0,0,0,0,0,1,0,0,0,0,0,0,0,0,1,0,0,0,1,1,0,0,0,0,0,1,0,1,0,1,1,0,0,0,0,1,0,0,1,0,0,0,0,1,1,0,0,0,0,0,0,0,0,0,0,1,0,0,0,1,0,0,0,0,0,0,0,0,0,0,1,0,0,0,0,0,0,0,0,0,0,1,0,0,1,0,0,0,0,0,0,1,0,0,1,0,0,0,0,1,0,0,0,0,0,0,0,1,1,0,0,0,1,0,0,0,0,0,0,1,1,0,0,1,0,0,0,1,0,1,1,0,0,0,1,0,0,1,0,0,0,0,0,0,0,0,0,1,0,0,0,0,1,0,0,0,0,1,0,0,0,0,0,0,0,1,1,0,1,1,0,0,0,0,0,1,0,0,1,0,0,0,0,0,0,1,0,0,0,0,0,0,1,0,0,0,1,0,1,0,0,1,1,0,0,0,1,0,0,0,0,0,0,0,0,0,0,0,0,0,0,1,0,1,0,1,0,0,1,0,1,1,0,0,0,1,0,0,0,1,0,0,0,0,0,1,0,0,0,0,0,0,0,0,0,1,0,0]\n",
        "\n",
        "print(f\"This customer was considered churned for {count_churned_period(days)[0]} distinct periods. The customer's longest period of churn is {count_churned_period(days)[1]} days\")"
      ],
      "metadata": {
        "colab": {
          "base_uri": "https://localhost:8080/"
        },
        "id": "j9oNNbJyqrNW",
        "outputId": "ae5d93b3-34af-47ba-b2c9-75a103ad6262"
      },
      "execution_count": 39,
      "outputs": [
        {
          "output_type": "stream",
          "name": "stdout",
          "text": [
            "This customer was considered churned for 17 distinct periods. The customer's longest period of churn is 35 days\n"
          ]
        }
      ]
    },
    {
      "cell_type": "code",
      "source": [
        "#Q6\n",
        "\"\"\"\n",
        "Each new term in the Fibonacci sequence is generated by adding the previous two terms. By starting with 1 and 2, the first 10 terms will be:\n",
        "\n",
        "1, 2, 3, 5, 8, 13, 21, 34, 55, 89, ...\n",
        "\n",
        "By considering the terms in the Fibonacci sequence whose values do not exceed four million, find the sum of the even-valued terms.\n",
        "\"\"\"\n",
        "def sum_even_terms_in_fibonacci(limit):\n",
        "  sum_term=0\n",
        "  i=1\n",
        "  j=2\n",
        "\n",
        "  while j<=limit:\n",
        "    if  j%2==0:\n",
        "      sum_term+=j\n",
        "    h=i+j\n",
        "    i=j\n",
        "    j=h\n",
        "    \n",
        "\n",
        "  return sum_term\n",
        "\n",
        "x=sum_even_terms_in_fibonacci(4000000)\n",
        "print(f\"The sum of the even-valued terms in the Fibonacci sequence whose values do not exceed four million is {x}\")\n",
        "   \n"
      ],
      "metadata": {
        "id": "Cj2lljjfrl8R",
        "colab": {
          "base_uri": "https://localhost:8080/"
        },
        "outputId": "492f3d06-100f-4d62-ed68-da6ebda7613b"
      },
      "execution_count": 48,
      "outputs": [
        {
          "output_type": "stream",
          "name": "stdout",
          "text": [
            "The sum of the even-valued terms in the Fibonacci sequence whose values do not exceed four million is 4613732\n"
          ]
        }
      ]
    }
  ]
}