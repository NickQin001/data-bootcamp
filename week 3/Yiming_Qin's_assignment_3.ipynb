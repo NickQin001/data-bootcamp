{
  "nbformat": 4,
  "nbformat_minor": 0,
  "metadata": {
    "colab": {
      "provenance": []
    },
    "kernelspec": {
      "name": "python3",
      "display_name": "Python 3"
    },
    "language_info": {
      "name": "python"
    }
  },
  "cells": [
    {
      "cell_type": "code",
      "execution_count": 10,
      "metadata": {
        "id": "HZ2V-6TN6Nfc"
      },
      "outputs": [],
      "source": [
        "# Q1\n",
        "\n",
        "class Flower:\n",
        "  def  __init__(self, height_in: float, color: str, number_of_petals: int, daily_water_intake_oz: float, total_water_supply_oz: float):\n",
        "    self.height_in=height_in\n",
        "    self.color=color\n",
        "    self.number_of_petals=number_of_petals\n",
        "    self.daily_water_intake_oz=daily_water_intake_oz\n",
        "    self.total_water_supply_oz=total_water_supply_oz\n",
        "    self.alive=True\n",
        "\n",
        "  def is_survived_flood(self, flood_hieght_in:float):\n",
        "    if flood_hieght_in>self.height_in:\n",
        "      self.alive=False\n",
        "\n",
        "  def loves_me_not(self):\n",
        "    return \"loves me\" if  self.number_of_petals% 2 ==1 else \"loves me not\"\n",
        "\n",
        "  def pick(self):\n",
        "    self.number_of_petals-=1\n",
        "\n",
        "  def is_water_supply_ok(self):\n",
        "    return self.total_water_supply_oz>2*self.daily_water_intake_oz \n",
        "\n",
        "  def water(self, amount_of_water_in:float):\n",
        "     self.total_water_supply_oz+=amount_of_water_in\n",
        "  \n",
        "  def drink(self):\n",
        "    self.total_water_supply_oz-=self.daily_water_intake_oz\n",
        "    if not self.is_water_supply_ok():\n",
        "      self.water(20*self.daily_water_intake_oz)"
      ]
    },
    {
      "cell_type": "code",
      "source": [
        "#Test Q1\n",
        "peony=Flower(12.5, \"red\", 23, 13, 60.0)\n",
        "\n",
        "peony.is_survived_flood(15.0)\n",
        "print(peony.alive)\n",
        "\n",
        "print(peony.loves_me_not())\n",
        "\n",
        "peony.pick()\n",
        "print(peony.number_of_petals)  \n",
        "\n",
        "print(peony.is_water_supply_ok())  \n",
        "\n",
        "peony.water(10.0)\n",
        "print(peony.total_water_supply_oz)  \n",
        "\n",
        "peony.drink()\n",
        "print(peony.total_water_supply_oz)  \n",
        "\n",
        "peony.drink()\n",
        "print(peony.total_water_supply_oz)  \n",
        "\n",
        "peony.drink()\n",
        "print(peony.total_water_supply_oz)  \n",
        "\n",
        "print(peony.is_water_supply_ok()) \n",
        "\n",
        "peony.drink()\n",
        "print(peony.total_water_supply_oz)  \n",
        "print(peony.is_water_supply_ok())  \n",
        "\n"
      ],
      "metadata": {
        "colab": {
          "base_uri": "https://localhost:8080/"
        },
        "id": "teqDWCMB_x2y",
        "outputId": "89c550ea-4f23-456b-cf3c-26c0a2d9fc71"
      },
      "execution_count": 28,
      "outputs": [
        {
          "output_type": "stream",
          "name": "stdout",
          "text": [
            "False\n",
            "loves me\n",
            "22\n",
            "True\n",
            "70.0\n",
            "57.0\n",
            "44.0\n",
            "31.0\n",
            "True\n",
            "278.0\n",
            "True\n"
          ]
        }
      ]
    },
    {
      "cell_type": "code",
      "source": [
        "# Q2\n",
        "import string\n",
        "from functools import reduce\n",
        "\n",
        "string_for_question_2 =\"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\"\n",
        "\n",
        "# How many letters in the string are upper-case?\n",
        "upper_count=len(list(filter(lambda i: i.isupper(),string_for_question_2)))\n",
        "print(f\"There are {upper_count} letters in the string are upper-case\")\n",
        "\n",
        "# If every vowel were replaced by a number representing that letter's place in the alphabet (e.g., c = 3 - not case-sensitive), how long would the entire string be?\n",
        "vowels = \"aeiouy\"\n",
        "string_with_vowel_replacement = \"\".join(list(map(lambda x: str(string.ascii_lowercase.index(x.lower())+1) if x.lower() in vowels else x, string_for_question_2)))\n",
        "length_of_string_with_vowel_replacement=len(string_with_vowel_replacement)\n",
        "print(f\"Length of the entire string with vowel replacement will be: {length_of_string_with_vowel_replacement}\")\n",
        "\n",
        "# If every letter were replaced by a number representing that letter's place in the alphabet, what would the sum of all those numbers be?\n",
        "string_replacement = list(map(lambda i: string.ascii_lowercase.index(i.lower())+1 if i.isalpha()else 0,string_for_question_2))\n",
        "sum_of_letter_numbers = reduce(lambda x,y: x+y, string_replacement)\n",
        "print(f\"The sum of all those numbers be: {sum_of_letter_numbers}\")\n",
        "\n",
        "\n",
        "\n"
      ],
      "metadata": {
        "colab": {
          "base_uri": "https://localhost:8080/"
        },
        "id": "26N03gXhBw9H",
        "outputId": "c0047541-cac4-44d4-9f03-0ba34ec81c53"
      },
      "execution_count": 77,
      "outputs": [
        {
          "output_type": "stream",
          "name": "stdout",
          "text": [
            "There are 981 letters in the string are upper-case\n",
            "Length of the entire string with vowel replacement will be: 2228\n",
            "The sum of all those numbers be: 26427\n"
          ]
        }
      ]
    },
    {
      "cell_type": "code",
      "source": [
        "# Q3\n",
        "from sympy import isprime\n",
        "\n",
        "# Use a list comprehension to turn them all into strings (e.g., 1 becomes \"1\"). How many characters long is the entire list?\n",
        "list_1=list(range(100001))\n",
        "list_into_string = \"\".join(list(str(num) for num in list_1))\n",
        "len_list_into_string=len(list_into_string)\n",
        "print(f\"There are {len_list_into_string} characters in the entire list\")\n",
        "\n",
        "# Use a list comprehension and a prime checker to filter the list down to numbers that are prime. (You might need to google around to find a package or a function that does prime checking). Now how many characters long is the entire list?\n",
        "prime_list_1= list(num for num in list_1 if isprime(num))\n",
        "prime_l=\"\".join(list(str(num) for num in prime_list_1))\n",
        "len_prime_1=len(prime_l)\n",
        "print(f\"There are {len_prime_1} characters in the entire prime list\")"
      ],
      "metadata": {
        "colab": {
          "base_uri": "https://localhost:8080/"
        },
        "id": "xD9Qq8LnQYIV",
        "outputId": "1f837c2c-a2ba-48bf-b79f-2d3f57007471"
      },
      "execution_count": 103,
      "outputs": [
        {
          "output_type": "stream",
          "name": "stdout",
          "text": [
            "There are 488896 characters in the entire list\n",
            "There are 46534 characters in the entire prime list\n"
          ]
        }
      ]
    },
    {
      "cell_type": "code",
      "source": [
        "# Q4\n",
        "import pandas as pd\n",
        "\n",
        "# which disease has the largest number of associated drug targets?\n",
        "df=pd.read_csv(\"/content/20230208 IDG data.csv\")\n",
        "largest_number_of_associated_drug_targets = df['Linked Disease'].value_counts().idxmax()\n",
        "print(f\"The disease with the largest number of associated drug targets is {largest_number_of_associated_drug_targets}\")\n",
        "\n",
        "# which Target Development Level has the largest number of associated targets?\n",
        "largest_num_level = df['Target Development Level'].value_counts().idxmax()\n",
        "print(f\"The Target Development Level with the largest number of associated targets is {largest_num_level}\")\n",
        "\n",
        "# how many distinct Target Development Levels are there?\n",
        "num_levels = df['Target Development Level'].nunique()\n",
        "print(f\"There are {num_levels} distinct Target Development Levels.\")\n",
        "\n",
        "# Which diseases have the most associated targets for each of the distinct development levels?\n",
        "for devlevel, group in df.groupby('Target Development Level'):\n",
        "    print(f\"\\nTop diseases for Target Development Level {devlevel}:\")\n",
        "    print(group['Linked Disease'].value_counts().head(3))\n",
        "\n",
        "# write the grouped dataframe by target development level and linked disease to a .csv file\n",
        "grouped_df = df.groupby(['Target Development Level', 'Linked Disease']).size().reset_index(name='Count')\n",
        "grouped_df.to_csv('grouped_drug_targets.csv', index=False)\n"
      ],
      "metadata": {
        "colab": {
          "base_uri": "https://localhost:8080/"
        },
        "id": "lmbt8zWWSPS8",
        "outputId": "5d657181-85fc-45b0-cf2a-ce7fcd440c50"
      },
      "execution_count": 111,
      "outputs": [
        {
          "output_type": "stream",
          "name": "stdout",
          "text": [
            "The disease with the largest number of associated drug targets is ovarian cancer\n",
            "The Target Development Level with the largest number of associated targets is Tbio\n",
            "There are 4 distinct Target Development Levels.\n",
            "\n",
            "Top diseases for Target Development Level Tbio:\n",
            "ovarian cancer     4365\n",
            "osteosarcoma       3831\n",
            "medulloblastoma    3634\n",
            "Name: Linked Disease, dtype: int64\n",
            "\n",
            "Top diseases for Target Development Level Tchem:\n",
            "ovarian cancer    791\n",
            "osteosarcoma      713\n",
            "psoriasis         666\n",
            "Name: Linked Disease, dtype: int64\n",
            "\n",
            "Top diseases for Target Development Level Tclin:\n",
            "psoriasis         253\n",
            "ovarian cancer    248\n",
            "osteosarcoma      227\n",
            "Name: Linked Disease, dtype: int64\n",
            "\n",
            "Top diseases for Target Development Level Tdark:\n",
            "osteosarcoma      983\n",
            "ovarian cancer    848\n",
            "psoriasis         812\n",
            "Name: Linked Disease, dtype: int64\n"
          ]
        }
      ]
    },
    {
      "cell_type": "code",
      "source": [
        "\"\"\"\n",
        "A Pythagorean triplet is a set of three natural numbers, a < b < c, for which,\n",
        "\n",
        "a2 + b2 = c2\n",
        "For example, 32 + 42 = 9 + 16 = 25 = 52.\n",
        "\n",
        "There exists exactly one Pythagorean triplet for which a + b + c = 1000.\n",
        "Find the product abc.\n",
        "\"\"\"\n",
        "\n",
        "for a in range(1,333):\n",
        "  for b in range(a+1,499):\n",
        "    c=1000-b-a\n",
        "    if c>b:\n",
        "      if c**2==b**2+a**2:\n",
        "        print( a*b*c)\n",
        "        break"
      ],
      "metadata": {
        "colab": {
          "base_uri": "https://localhost:8080/"
        },
        "id": "mbwQxwKgZ0P_",
        "outputId": "9a75f865-7178-47cc-e582-edb5b116731b"
      },
      "execution_count": 120,
      "outputs": [
        {
          "output_type": "stream",
          "name": "stdout",
          "text": [
            "31875000\n"
          ]
        }
      ]
    }
  ]
}