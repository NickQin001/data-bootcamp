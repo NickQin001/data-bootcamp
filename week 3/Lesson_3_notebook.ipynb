{
 "cells": [
  {
   "cell_type": "code",
   "execution_count": 2,
   "id": "b176f37c",
   "metadata": {},
   "outputs": [
    {
     "name": "stdout",
     "output_type": "stream",
     "text": [
      "9.75\n"
     ]
    }
   ],
   "source": [
    "name=\"Jimihua\"\n",
    "greeting=\"meow\"\n",
    "legs=4\n",
    "daily_food_requirement_lbs=0.25\n",
    "food_stash_lbs=10.0\n",
    "\n",
    "def greet(who):\n",
    "    print(greeting+\", \"+who)\n",
    "    \n",
    "\n",
    "def eat():\n",
    "    global food_stash_lbs\n",
    "    food_stash_lbs-=daily_food_requirement_lbs\n",
    "    print(food_stash_lbs)\n",
    "    \n",
    "    \n",
    "eat()"
   ]
  },
  {
   "cell_type": "code",
   "execution_count": null,
   "id": "99f13ad5",
   "metadata": {},
   "outputs": [],
   "source": [
    "name = \"anubis\"\n",
    "greeting=\"meow\"\n",
    "legs=4\n",
    "daily_food_requirement_lbs=1.5\n",
    "food_stash_lbs=40.0"
   ]
  },
  {
   "cell_type": "code",
   "execution_count": 8,
   "id": "fa95e412",
   "metadata": {},
   "outputs": [
    {
     "name": "stdout",
     "output_type": "stream",
     "text": [
      "meow, Nick\n",
      "38.5\n"
     ]
    }
   ],
   "source": [
    "class Animal:\n",
    "    \n",
    "    def __init__(self,name,greeting,legs,daily_food_requirement_lbs,food_stash_lbs):\n",
    "        self.name=name\n",
    "        self.greeting=greeting\n",
    "        self.legs=legs\n",
    "        self.daily_food_requirement_lbs=daily_food_requirement_lbs\n",
    "        self.food_stash_lbs=food_stash_lbs\n",
    "        self.food_reup_amount=food_stash_lbs\n",
    "        \n",
    "        self.legs_per_side=legs/2\n",
    "        \n",
    "    def greet(self,who):\n",
    "        print(self.greeting +\", \"+who)\n",
    "        \n",
    "    def eat(self):\n",
    "        if self.food_stash_is_sufficient():\n",
    "            self.food_stash_lbs-=self.daily_food_requirement_lbs\n",
    "            print(self.food_stash_lbs)\n",
    "        else:\n",
    "            print(\"I'm hungry\")\n",
    "        \n",
    "    def food_stash_is_sufficient(self):\n",
    "        return self.food_stash_lbs>=self.daily_food_requirement_lbs\n",
    "    \n",
    "    def buy_new_bag_of _food(self):\n",
    "        self.food_stash_lbs+=self.food_reup_amount\n",
    "        \n",
    "jimihua = Animal(\"Jimihua\",\"meow\",4,0.25,10.0)\n",
    "anubis = Animal(\"Anubis\",\"meow\",4,1.5,40.0)\n",
    "\n",
    "\n",
    "jimihua.greet(\"Nick\")\n",
    "anubis.eat()\n",
    "    "
   ]
  },
  {
   "cell_type": "code",
   "execution_count": 16,
   "id": "fe1f0614",
   "metadata": {},
   "outputs": [],
   "source": [
    "class Luggage:\n",
    "    \n",
    "    def __init__(self,weight_lbs,height_in,width_in,depth_in,color):\n",
    "        self.weight_lbs=weight_lbs\n",
    "        self.height_in=height_in\n",
    "        self.width_in=width_in\n",
    "        self.depth_in=depth_in\n",
    "        self.color=color\n",
    "        \n",
    "    def cubic_inches(self):\n",
    "        return self.height_in*self.width_in*self.depth_in\n",
    "    "
   ]
  },
  {
   "cell_type": "code",
   "execution_count": 18,
   "id": "b8f28e0f",
   "metadata": {},
   "outputs": [],
   "source": [
    "my_bag= Luggage(50.,20,20,20,\"Red\")"
   ]
  },
  {
   "cell_type": "code",
   "execution_count": 19,
   "id": "cb1dfc48",
   "metadata": {},
   "outputs": [
    {
     "data": {
      "text/plain": [
       "8000"
      ]
     },
     "execution_count": 19,
     "metadata": {},
     "output_type": "execute_result"
    }
   ],
   "source": [
    "my_bag.height_in\n",
    "\n",
    "my_bag.cubic_inches()"
   ]
  },
  {
   "cell_type": "code",
   "execution_count": null,
   "id": "079660e6",
   "metadata": {},
   "outputs": [],
   "source": [
    "#  list comprehensions\n",
    "\n",
    "x = \"Yes\" if 536% 3 ==0 else\"No\""
   ]
  },
  {
   "cell_type": "code",
   "execution_count": 26,
   "id": "5ecd3f44",
   "metadata": {},
   "outputs": [
    {
     "name": "stdout",
     "output_type": "stream",
     "text": [
      "[0.0, 3.5, 7.0, 10.5, 14.0, 17.5, 21.0, 24.5, 28.0, 31.5, 35.0, 38.5, 42.0, 45.5, 49.0]\n",
      "[0.0, 3.5, 7.0, 10.5, 14.0, 17.5, 21.0, 24.5, 28.0, 31.5, 35.0, 38.5, 42.0, 45.5, 49.0]\n"
     ]
    }
   ],
   "source": [
    "x = list(range(0,100))\n",
    "\n",
    "y1 = list(filter(lambda n: n%7 == 0, x))\n",
    "y1=list(map(lambda n:n/2, y1))\n",
    "y= [z / 2 for z in x if z % 7 == 0]\n",
    "print(y)\n",
    "print(y1)\n",
    "\n"
   ]
  },
  {
   "cell_type": "code",
   "execution_count": 28,
   "id": "b273359f",
   "metadata": {},
   "outputs": [
    {
     "name": "stdout",
     "output_type": "stream",
     "text": [
      "bshchhdhksjbkdbqwjbkjbskdbkwbkbsdk\n"
     ]
    },
    {
     "data": {
      "text/plain": [
       "'bshchhdhksjbkdbqwjbkjbskdbkwbkbsdk'"
      ]
     },
     "execution_count": 28,
     "metadata": {},
     "output_type": "execute_result"
    }
   ],
   "source": [
    "alphabet = \"abshchaiuhdhksajbkdbqwjbkjbaskdbkawbkbsdka\"\n",
    "voewls = \"aeiouy\"\n",
    "\n",
    "consonants1=\"\".join([i for i in alphabet if i not in voewls])\n",
    "print(consonants1)\n",
    "\n",
    "consonants = list(filter(lambda x: x not in voewls, alphabet))\n",
    "consonants = \"\".join(consonants)\n",
    "\n",
    "consonants"
   ]
  },
  {
   "cell_type": "code",
   "execution_count": 32,
   "id": "f1107999",
   "metadata": {},
   "outputs": [
    {
     "data": {
      "text/plain": [
       "0.06500720977783203"
      ]
     },
     "execution_count": 32,
     "metadata": {},
     "output_type": "execute_result"
    }
   ],
   "source": [
    "import time\n",
    "\n",
    "time_before = time.time()\n",
    "for i in range(100):\n",
    "    for j in range (100):\n",
    "        for k in range (100):\n",
    "            x = i * j* k\n",
    "time_after = time.time()\n",
    "\n",
    "time_elapsed = time_after -time_before\n",
    "time_elapsed "
   ]
  },
  {
   "cell_type": "code",
   "execution_count": 33,
   "id": "1748d82e",
   "metadata": {},
   "outputs": [
    {
     "data": {
      "text/plain": [
       "'C:\\\\Users\\\\yq89_'"
      ]
     },
     "execution_count": 33,
     "metadata": {},
     "output_type": "execute_result"
    }
   ],
   "source": [
    "import os\n",
    "os.getcwd()"
   ]
  },
  {
   "cell_type": "code",
   "execution_count": null,
   "id": "c2060077",
   "metadata": {},
   "outputs": [],
   "source": [
    "#  big \"O\" notation\n",
    "\n",
    "def constant_time(l):\n",
    "    return 1\n",
    "#O(1)\n",
    "\n",
    "def linear_time(l):\n",
    "    for element in l:\n",
    "        x= l/2      \n",
    "# O(n)\n",
    "\n",
    "def square_time(l):\n",
    "    for element in l:\n",
    "        for element2 in l:\n",
    "            x = element *element2\n",
    "# O(x^2)\n",
    "\n",
    "def binary_search(l):\n",
    "    "
   ]
  },
  {
   "cell_type": "code",
   "execution_count": 42,
   "id": "44891a6f",
   "metadata": {},
   "outputs": [],
   "source": [
    "file = open(r\"C:\\Users\\yq89_\\Desktop\\example.txt\",\"r\")\n",
    "# a -- append\n",
    "# w -- write allowed dangerous \n",
    "# r -- read allowed"
   ]
  },
  {
   "cell_type": "code",
   "execution_count": 49,
   "id": "189c2ef1",
   "metadata": {},
   "outputs": [
    {
     "data": {
      "text/plain": [
       "'\"this is the data contained in a file!\"\\n'"
      ]
     },
     "execution_count": 49,
     "metadata": {},
     "output_type": "execute_result"
    }
   ],
   "source": [
    "file = open(r\"C:\\Users\\yq89_\\Desktop\\example.txt\",\"r\")\n",
    "file.readline()"
   ]
  },
  {
   "cell_type": "code",
   "execution_count": 40,
   "id": "a5731c50",
   "metadata": {},
   "outputs": [
    {
     "data": {
      "text/plain": [
       "''"
      ]
     },
     "execution_count": 40,
     "metadata": {},
     "output_type": "execute_result"
    }
   ],
   "source": [
    "file_data=file.read()\n"
   ]
  },
  {
   "cell_type": "code",
   "execution_count": null,
   "id": "f456e4e4",
   "metadata": {},
   "outputs": [],
   "source": [
    "file = open(r\"C:\\Users\\yq89_\\Desktop\\example.txt\",\"a\")\n",
    "file.write(\"xyz\")"
   ]
  },
  {
   "cell_type": "code",
   "execution_count": null,
   "id": "560fceb5",
   "metadata": {},
   "outputs": [],
   "source": [
    "file.close() \n",
    "# close first than read"
   ]
  },
  {
   "cell_type": "code",
   "execution_count": null,
   "id": "3adfe7b4",
   "metadata": {},
   "outputs": [],
   "source": [
    "file.read()"
   ]
  },
  {
   "cell_type": "code",
   "execution_count": null,
   "id": "3e79b861",
   "metadata": {},
   "outputs": [],
   "source": [
    "file_data= file.read()"
   ]
  },
  {
   "cell_type": "code",
   "execution_count": null,
   "id": "5a4b328a",
   "metadata": {},
   "outputs": [],
   "source": [
    "file_data.split(\"\\n\")\n",
    "# \\n means a new line"
   ]
  },
  {
   "cell_type": "code",
   "execution_count": null,
   "id": "75e475ba",
   "metadata": {},
   "outputs": [],
   "source": [
    "file = open(r\"C:\\Users\\yq89_\\Desktop\\example.txt\",\"a\")"
   ]
  },
  {
   "cell_type": "code",
   "execution_count": 51,
   "id": "d337704b",
   "metadata": {},
   "outputs": [
    {
     "name": "stdout",
     "output_type": "stream",
     "text": [
      "Defaulting to user installation because normal site-packages is not writeable\n",
      "Collecting pandas\n",
      "  Downloading pandas-1.5.3-cp310-cp310-win_amd64.whl (10.4 MB)\n",
      "     ---------------------------------------- 0.0/10.4 MB ? eta -:--:--\n",
      "     -- ------------------------------------- 0.6/10.4 MB 13.1 MB/s eta 0:00:01\n",
      "     ---- ----------------------------------- 1.3/10.4 MB 13.6 MB/s eta 0:00:01\n",
      "     ------- -------------------------------- 2.0/10.4 MB 14.4 MB/s eta 0:00:01\n",
      "     -------- ------------------------------- 2.3/10.4 MB 14.4 MB/s eta 0:00:01\n",
      "     ----------- ---------------------------- 2.9/10.4 MB 12.4 MB/s eta 0:00:01\n",
      "     ------------- -------------------------- 3.6/10.4 MB 12.8 MB/s eta 0:00:01\n",
      "     ---------------- ----------------------- 4.3/10.4 MB 13.0 MB/s eta 0:00:01\n",
      "     ------------------- -------------------- 4.9/10.4 MB 13.1 MB/s eta 0:00:01\n",
      "     ---------------------- ----------------- 5.7/10.4 MB 13.5 MB/s eta 0:00:01\n",
      "     ------------------------ --------------- 6.4/10.4 MB 13.6 MB/s eta 0:00:01\n",
      "     --------------------------- ------------ 7.1/10.4 MB 13.8 MB/s eta 0:00:01\n",
      "     ---------------------------- ----------- 7.4/10.4 MB 14.0 MB/s eta 0:00:01\n",
      "     --------------------------------- ------ 8.6/10.4 MB 14.0 MB/s eta 0:00:01\n",
      "     ----------------------------------- ---- 9.3/10.4 MB 14.2 MB/s eta 0:00:01\n",
      "     ------------------------------------- - 10.0/10.4 MB 14.1 MB/s eta 0:00:01\n",
      "     --------------------------------------- 10.4/10.4 MB 13.6 MB/s eta 0:00:00\n",
      "Requirement already satisfied: python-dateutil>=2.8.1 in c:\\users\\yq89_\\appdata\\roaming\\python\\python310\\site-packages (from pandas) (2.8.2)\n",
      "Collecting numpy>=1.21.0\n",
      "  Downloading numpy-1.24.2-cp310-cp310-win_amd64.whl (14.8 MB)\n",
      "     ---------------------------------------- 0.0/14.8 MB ? eta -:--:--\n",
      "     - -------------------------------------- 0.6/14.8 MB 11.5 MB/s eta 0:00:02\n",
      "     --- ------------------------------------ 1.3/14.8 MB 13.8 MB/s eta 0:00:01\n",
      "     ----- ---------------------------------- 2.1/14.8 MB 14.8 MB/s eta 0:00:01\n",
      "     ------- -------------------------------- 2.7/14.8 MB 14.6 MB/s eta 0:00:01\n",
      "     --------- ------------------------------ 3.4/14.8 MB 14.4 MB/s eta 0:00:01\n",
      "     ----------- ---------------------------- 4.1/14.8 MB 14.7 MB/s eta 0:00:01\n",
      "     ------------- -------------------------- 4.9/14.8 MB 14.9 MB/s eta 0:00:01\n",
      "     -------------- ------------------------- 5.6/14.8 MB 14.8 MB/s eta 0:00:01\n",
      "     ----------------- ---------------------- 6.3/14.8 MB 14.9 MB/s eta 0:00:01\n",
      "     ------------------- -------------------- 7.1/14.8 MB 15.0 MB/s eta 0:00:01\n",
      "     ------------------- -------------------- 7.4/14.8 MB 14.7 MB/s eta 0:00:01\n",
      "     ---------------------- ----------------- 8.5/14.8 MB 15.1 MB/s eta 0:00:01\n",
      "     ------------------------ --------------- 9.2/14.8 MB 15.0 MB/s eta 0:00:01\n",
      "     -------------------------- ------------- 9.9/14.8 MB 15.1 MB/s eta 0:00:01\n",
      "     --------------------------- ----------- 10.5/14.8 MB 15.2 MB/s eta 0:00:01\n",
      "     ----------------------------- --------- 11.2/14.8 MB 14.9 MB/s eta 0:00:01\n",
      "     ------------------------------- ------- 11.8/14.8 MB 14.9 MB/s eta 0:00:01\n",
      "     -------------------------------- ------ 12.5/14.8 MB 14.9 MB/s eta 0:00:01\n",
      "     ---------------------------------- ---- 13.2/14.8 MB 14.9 MB/s eta 0:00:01\n",
      "     ------------------------------------ -- 14.0/14.8 MB 14.9 MB/s eta 0:00:01\n",
      "     --------------------------------------  14.6/14.8 MB 14.9 MB/s eta 0:00:01\n",
      "     --------------------------------------- 14.8/14.8 MB 14.5 MB/s eta 0:00:00\n",
      "Collecting pytz>=2020.1\n",
      "  Downloading pytz-2022.7.1-py2.py3-none-any.whl (499 kB)\n",
      "     ---------------------------------------- 0.0/499.4 kB ? eta -:--:--\n",
      "     ------------------------------------- 499.4/499.4 kB 15.8 MB/s eta 0:00:00\n",
      "Requirement already satisfied: six>=1.5 in c:\\users\\yq89_\\appdata\\roaming\\python\\python310\\site-packages (from python-dateutil>=2.8.1->pandas) (1.16.0)\n",
      "Installing collected packages: pytz, numpy, pandas\n",
      "Successfully installed numpy-1.24.2 pandas-1.5.3 pytz-2022.7.1\n",
      "Note: you may need to restart the kernel to use updated packages.\n"
     ]
    },
    {
     "name": "stderr",
     "output_type": "stream",
     "text": [
      "  WARNING: The script f2py.exe is installed in 'C:\\Users\\yq89_\\AppData\\Roaming\\Python\\Python310\\Scripts' which is not on PATH.\n",
      "  Consider adding this directory to PATH or, if you prefer to suppress this warning, use --no-warn-script-location.\n"
     ]
    }
   ],
   "source": [
    "pip install pandas"
   ]
  },
  {
   "cell_type": "code",
   "execution_count": 57,
   "id": "22871533",
   "metadata": {},
   "outputs": [
    {
     "data": {
      "text/html": [
       "<div>\n",
       "<style scoped>\n",
       "    .dataframe tbody tr th:only-of-type {\n",
       "        vertical-align: middle;\n",
       "    }\n",
       "\n",
       "    .dataframe tbody tr th {\n",
       "        vertical-align: top;\n",
       "    }\n",
       "\n",
       "    .dataframe thead th {\n",
       "        text-align: right;\n",
       "    }\n",
       "</style>\n",
       "<table border=\"1\" class=\"dataframe\">\n",
       "  <thead>\n",
       "    <tr style=\"text-align: right;\">\n",
       "      <th></th>\n",
       "      <th>col1</th>\n",
       "      <th>col2</th>\n",
       "      <th>col3</th>\n",
       "    </tr>\n",
       "  </thead>\n",
       "  <tbody>\n",
       "    <tr>\n",
       "      <th>row1</th>\n",
       "      <td>1</td>\n",
       "      <td>2</td>\n",
       "      <td>3</td>\n",
       "    </tr>\n",
       "    <tr>\n",
       "      <th>row2</th>\n",
       "      <td>4</td>\n",
       "      <td>5</td>\n",
       "      <td>6</td>\n",
       "    </tr>\n",
       "    <tr>\n",
       "      <th>row3</th>\n",
       "      <td>7</td>\n",
       "      <td>8</td>\n",
       "      <td>9</td>\n",
       "    </tr>\n",
       "  </tbody>\n",
       "</table>\n",
       "</div>"
      ],
      "text/plain": [
       "      col1  col2  col3\n",
       "row1     1     2     3\n",
       "row2     4     5     6\n",
       "row3     7     8     9"
      ]
     },
     "execution_count": 57,
     "metadata": {},
     "output_type": "execute_result"
    }
   ],
   "source": [
    "x = [\n",
    "    [1,2,3],\n",
    "    [4,5,6],\n",
    "    [7,8,9]\n",
    "]\n",
    "\n",
    "\n",
    "import pandas as pd\n",
    "\n",
    "df = pd.DataFrame(x,columns=[\"col1\",\"col2\",\"col3\"],index=[\"row1\",\"row2\",\"row3\"])\n",
    "df"
   ]
  },
  {
   "cell_type": "code",
   "execution_count": 58,
   "id": "7f25e46a",
   "metadata": {},
   "outputs": [
    {
     "data": {
      "text/plain": [
       "15"
      ]
     },
     "execution_count": 58,
     "metadata": {},
     "output_type": "execute_result"
    }
   ],
   "source": [
    "df[\"col2\"].sum()"
   ]
  },
  {
   "cell_type": "code",
   "execution_count": 62,
   "id": "7c151981",
   "metadata": {},
   "outputs": [
    {
     "data": {
      "text/plain": [
       "8"
      ]
     },
     "execution_count": 62,
     "metadata": {},
     "output_type": "execute_result"
    }
   ],
   "source": [
    "# loc and iloc both row first\n",
    "df.loc[[\"row1\",\"row3\"],\"col1\"].sum()\n"
   ]
  },
  {
   "cell_type": "code",
   "execution_count": 63,
   "id": "9960d628",
   "metadata": {},
   "outputs": [
    {
     "data": {
      "text/html": [
       "<div>\n",
       "<style scoped>\n",
       "    .dataframe tbody tr th:only-of-type {\n",
       "        vertical-align: middle;\n",
       "    }\n",
       "\n",
       "    .dataframe tbody tr th {\n",
       "        vertical-align: top;\n",
       "    }\n",
       "\n",
       "    .dataframe thead th {\n",
       "        text-align: right;\n",
       "    }\n",
       "</style>\n",
       "<table border=\"1\" class=\"dataframe\">\n",
       "  <thead>\n",
       "    <tr style=\"text-align: right;\">\n",
       "      <th></th>\n",
       "      <th>col2</th>\n",
       "      <th>col3</th>\n",
       "    </tr>\n",
       "  </thead>\n",
       "  <tbody>\n",
       "    <tr>\n",
       "      <th>row1</th>\n",
       "      <td>2</td>\n",
       "      <td>3</td>\n",
       "    </tr>\n",
       "    <tr>\n",
       "      <th>row2</th>\n",
       "      <td>5</td>\n",
       "      <td>6</td>\n",
       "    </tr>\n",
       "  </tbody>\n",
       "</table>\n",
       "</div>"
      ],
      "text/plain": [
       "      col2  col3\n",
       "row1     2     3\n",
       "row2     5     6"
      ]
     },
     "execution_count": 63,
     "metadata": {},
     "output_type": "execute_result"
    }
   ],
   "source": [
    "# index notation\n",
    "df.iloc[0:2,1:3]\n"
   ]
  },
  {
   "cell_type": "code",
   "execution_count": 64,
   "id": "562cd5bf",
   "metadata": {},
   "outputs": [
    {
     "data": {
      "text/plain": [
       "row1     6\n",
       "row2    15\n",
       "row3    24\n",
       "dtype: int64"
      ]
     },
     "execution_count": 64,
     "metadata": {},
     "output_type": "execute_result"
    }
   ],
   "source": [
    "# change colomn to row (default is axis =0 means colomn)\n",
    "df.sum(axis=1)"
   ]
  },
  {
   "cell_type": "code",
   "execution_count": 71,
   "id": "c3517177",
   "metadata": {},
   "outputs": [
    {
     "data": {
      "text/html": [
       "<div>\n",
       "<style scoped>\n",
       "    .dataframe tbody tr th:only-of-type {\n",
       "        vertical-align: middle;\n",
       "    }\n",
       "\n",
       "    .dataframe tbody tr th {\n",
       "        vertical-align: top;\n",
       "    }\n",
       "\n",
       "    .dataframe thead th {\n",
       "        text-align: right;\n",
       "    }\n",
       "</style>\n",
       "<table border=\"1\" class=\"dataframe\">\n",
       "  <thead>\n",
       "    <tr style=\"text-align: right;\">\n",
       "      <th></th>\n",
       "      <th>col1</th>\n",
       "      <th>col2</th>\n",
       "      <th>col3</th>\n",
       "    </tr>\n",
       "  </thead>\n",
       "  <tbody>\n",
       "    <tr>\n",
       "      <th>row1</th>\n",
       "      <td>0.25</td>\n",
       "      <td>2</td>\n",
       "      <td>3</td>\n",
       "    </tr>\n",
       "    <tr>\n",
       "      <th>row2</th>\n",
       "      <td>1.00</td>\n",
       "      <td>5</td>\n",
       "      <td>6</td>\n",
       "    </tr>\n",
       "    <tr>\n",
       "      <th>row3</th>\n",
       "      <td>1.75</td>\n",
       "      <td>8</td>\n",
       "      <td>9</td>\n",
       "    </tr>\n",
       "  </tbody>\n",
       "</table>\n",
       "</div>"
      ],
      "text/plain": [
       "      col1  col2  col3\n",
       "row1  0.25     2     3\n",
       "row2  1.00     5     6\n",
       "row3  1.75     8     9"
      ]
     },
     "execution_count": 71,
     "metadata": {},
     "output_type": "execute_result"
    }
   ],
   "source": [
    "df.iloc[:,0]=df.iloc[:,0]/2\n",
    "df"
   ]
  },
  {
   "cell_type": "code",
   "execution_count": 69,
   "id": "804314bd",
   "metadata": {},
   "outputs": [
    {
     "data": {
      "text/plain": [
       "row1    1\n",
       "row2    4\n",
       "row3    7\n",
       "Name: col1, dtype: int64"
      ]
     },
     "execution_count": 69,
     "metadata": {},
     "output_type": "execute_result"
    }
   ],
   "source": [
    "df.iloc[:,0]"
   ]
  },
  {
   "cell_type": "code",
   "execution_count": 74,
   "id": "066cc4b4",
   "metadata": {},
   "outputs": [
    {
     "data": {
      "text/html": [
       "<div>\n",
       "<style scoped>\n",
       "    .dataframe tbody tr th:only-of-type {\n",
       "        vertical-align: middle;\n",
       "    }\n",
       "\n",
       "    .dataframe tbody tr th {\n",
       "        vertical-align: top;\n",
       "    }\n",
       "\n",
       "    .dataframe thead th {\n",
       "        text-align: right;\n",
       "    }\n",
       "</style>\n",
       "<table border=\"1\" class=\"dataframe\">\n",
       "  <thead>\n",
       "    <tr style=\"text-align: right;\">\n",
       "      <th></th>\n",
       "      <th>0</th>\n",
       "      <th>1</th>\n",
       "      <th>2</th>\n",
       "      <th>3</th>\n",
       "    </tr>\n",
       "  </thead>\n",
       "  <tbody>\n",
       "    <tr>\n",
       "      <th>0</th>\n",
       "      <td>1</td>\n",
       "      <td>2</td>\n",
       "      <td>3</td>\n",
       "      <td>10</td>\n",
       "    </tr>\n",
       "    <tr>\n",
       "      <th>1</th>\n",
       "      <td>4</td>\n",
       "      <td>5</td>\n",
       "      <td>6</td>\n",
       "      <td>11</td>\n",
       "    </tr>\n",
       "    <tr>\n",
       "      <th>2</th>\n",
       "      <td>7</td>\n",
       "      <td>8</td>\n",
       "      <td>9</td>\n",
       "      <td>12</td>\n",
       "    </tr>\n",
       "  </tbody>\n",
       "</table>\n",
       "</div>"
      ],
      "text/plain": [
       "   0  1  2   3\n",
       "0  1  2  3  10\n",
       "1  4  5  6  11\n",
       "2  7  8  9  12"
      ]
     },
     "execution_count": 74,
     "metadata": {},
     "output_type": "execute_result"
    }
   ],
   "source": [
    "x = [\n",
    "    [1,2,3],\n",
    "    [4,5,6],\n",
    "    [7,8,9]\n",
    "]\n",
    "\n",
    "df = pd.DataFrame(x)\n",
    "df.loc[:,3] =[10,11,12]\n",
    "# .loc can extend things, .iloc can't \n",
    "df"
   ]
  },
  {
   "cell_type": "code",
   "execution_count": 75,
   "id": "edb33cc2",
   "metadata": {},
   "outputs": [
    {
     "data": {
      "text/html": [
       "<div>\n",
       "<style scoped>\n",
       "    .dataframe tbody tr th:only-of-type {\n",
       "        vertical-align: middle;\n",
       "    }\n",
       "\n",
       "    .dataframe tbody tr th {\n",
       "        vertical-align: top;\n",
       "    }\n",
       "\n",
       "    .dataframe thead th {\n",
       "        text-align: right;\n",
       "    }\n",
       "</style>\n",
       "<table border=\"1\" class=\"dataframe\">\n",
       "  <thead>\n",
       "    <tr style=\"text-align: right;\">\n",
       "      <th></th>\n",
       "      <th>0</th>\n",
       "      <th>1</th>\n",
       "      <th>2</th>\n",
       "      <th>3</th>\n",
       "    </tr>\n",
       "  </thead>\n",
       "  <tbody>\n",
       "    <tr>\n",
       "      <th>0</th>\n",
       "      <td>1.0</td>\n",
       "      <td>2.0</td>\n",
       "      <td>3.0</td>\n",
       "      <td>10.0</td>\n",
       "    </tr>\n",
       "    <tr>\n",
       "      <th>1</th>\n",
       "      <td>4.0</td>\n",
       "      <td>5.0</td>\n",
       "      <td>6.0</td>\n",
       "      <td>11.0</td>\n",
       "    </tr>\n",
       "    <tr>\n",
       "      <th>2</th>\n",
       "      <td>7.0</td>\n",
       "      <td>8.0</td>\n",
       "      <td>9.0</td>\n",
       "      <td>12.0</td>\n",
       "    </tr>\n",
       "    <tr>\n",
       "      <th>3</th>\n",
       "      <td>13.0</td>\n",
       "      <td>14.0</td>\n",
       "      <td>15.0</td>\n",
       "      <td>16.0</td>\n",
       "    </tr>\n",
       "  </tbody>\n",
       "</table>\n",
       "</div>"
      ],
      "text/plain": [
       "      0     1     2     3\n",
       "0   1.0   2.0   3.0  10.0\n",
       "1   4.0   5.0   6.0  11.0\n",
       "2   7.0   8.0   9.0  12.0\n",
       "3  13.0  14.0  15.0  16.0"
      ]
     },
     "execution_count": 75,
     "metadata": {},
     "output_type": "execute_result"
    }
   ],
   "source": [
    "df.loc[3,:] =[13,14,15,16]\n",
    "df"
   ]
  },
  {
   "cell_type": "code",
   "execution_count": 78,
   "id": "5152b46e",
   "metadata": {},
   "outputs": [
    {
     "data": {
      "text/html": [
       "<div>\n",
       "<style scoped>\n",
       "    .dataframe tbody tr th:only-of-type {\n",
       "        vertical-align: middle;\n",
       "    }\n",
       "\n",
       "    .dataframe tbody tr th {\n",
       "        vertical-align: top;\n",
       "    }\n",
       "\n",
       "    .dataframe thead th {\n",
       "        text-align: right;\n",
       "    }\n",
       "</style>\n",
       "<table border=\"1\" class=\"dataframe\">\n",
       "  <thead>\n",
       "    <tr style=\"text-align: right;\">\n",
       "      <th></th>\n",
       "      <th>0</th>\n",
       "      <th>1</th>\n",
       "      <th>2</th>\n",
       "      <th>3</th>\n",
       "    </tr>\n",
       "  </thead>\n",
       "  <tbody>\n",
       "    <tr>\n",
       "      <th>0</th>\n",
       "      <td>1.0</td>\n",
       "      <td>2.0</td>\n",
       "      <td>3.0</td>\n",
       "      <td>10.0</td>\n",
       "    </tr>\n",
       "    <tr>\n",
       "      <th>2</th>\n",
       "      <td>7.0</td>\n",
       "      <td>8.0</td>\n",
       "      <td>9.0</td>\n",
       "      <td>12.0</td>\n",
       "    </tr>\n",
       "    <tr>\n",
       "      <th>3</th>\n",
       "      <td>13.0</td>\n",
       "      <td>14.0</td>\n",
       "      <td>15.0</td>\n",
       "      <td>16.0</td>\n",
       "    </tr>\n",
       "  </tbody>\n",
       "</table>\n",
       "</div>"
      ],
      "text/plain": [
       "      0     1     2     3\n",
       "0   1.0   2.0   3.0  10.0\n",
       "2   7.0   8.0   9.0  12.0\n",
       "3  13.0  14.0  15.0  16.0"
      ]
     },
     "execution_count": 78,
     "metadata": {},
     "output_type": "execute_result"
    }
   ],
   "source": [
    "mask = df.loc[:,0]% 2!=0\n",
    "df[mask]"
   ]
  },
  {
   "cell_type": "code",
   "execution_count": 79,
   "id": "263b0485",
   "metadata": {},
   "outputs": [],
   "source": [
    "x = [\n",
    "    [1,2,3],\n",
    "    [4,5,6],\n",
    "    [7,8,9]\n",
    "]\n",
    "df = pd.DataFrame(x,columns=[\"col1\",\"col2\",\"col3\"],index=[\"row1\",\"row2\",\"row3\"])\n"
   ]
  },
  {
   "cell_type": "code",
   "execution_count": 81,
   "id": "318136ca",
   "metadata": {},
   "outputs": [
    {
     "data": {
      "text/html": [
       "<div>\n",
       "<style scoped>\n",
       "    .dataframe tbody tr th:only-of-type {\n",
       "        vertical-align: middle;\n",
       "    }\n",
       "\n",
       "    .dataframe tbody tr th {\n",
       "        vertical-align: top;\n",
       "    }\n",
       "\n",
       "    .dataframe thead th {\n",
       "        text-align: right;\n",
       "    }\n",
       "</style>\n",
       "<table border=\"1\" class=\"dataframe\">\n",
       "  <thead>\n",
       "    <tr style=\"text-align: right;\">\n",
       "      <th></th>\n",
       "      <th>col1</th>\n",
       "      <th>col2</th>\n",
       "      <th>col3</th>\n",
       "    </tr>\n",
       "  </thead>\n",
       "  <tbody>\n",
       "    <tr>\n",
       "      <th>first_row</th>\n",
       "      <td>1</td>\n",
       "      <td>2</td>\n",
       "      <td>3</td>\n",
       "    </tr>\n",
       "    <tr>\n",
       "      <th>row2</th>\n",
       "      <td>4</td>\n",
       "      <td>5</td>\n",
       "      <td>6</td>\n",
       "    </tr>\n",
       "    <tr>\n",
       "      <th>row3</th>\n",
       "      <td>7</td>\n",
       "      <td>8</td>\n",
       "      <td>9</td>\n",
       "    </tr>\n",
       "  </tbody>\n",
       "</table>\n",
       "</div>"
      ],
      "text/plain": [
       "           col1  col2  col3\n",
       "first_row     1     2     3\n",
       "row2          4     5     6\n",
       "row3          7     8     9"
      ]
     },
     "execution_count": 81,
     "metadata": {},
     "output_type": "execute_result"
    }
   ],
   "source": [
    "df.rename({\"col1\":\"first_col\"},axis=1)\n",
    "df.rename({\"row1\":\"first_row\"})"
   ]
  },
  {
   "cell_type": "code",
   "execution_count": 82,
   "id": "bbb96f65",
   "metadata": {},
   "outputs": [
    {
     "data": {
      "text/html": [
       "<div>\n",
       "<style scoped>\n",
       "    .dataframe tbody tr th:only-of-type {\n",
       "        vertical-align: middle;\n",
       "    }\n",
       "\n",
       "    .dataframe tbody tr th {\n",
       "        vertical-align: top;\n",
       "    }\n",
       "\n",
       "    .dataframe thead th {\n",
       "        text-align: right;\n",
       "    }\n",
       "</style>\n",
       "<table border=\"1\" class=\"dataframe\">\n",
       "  <thead>\n",
       "    <tr style=\"text-align: right;\">\n",
       "      <th></th>\n",
       "      <th>student</th>\n",
       "      <th>grade</th>\n",
       "      <th>gpa</th>\n",
       "    </tr>\n",
       "  </thead>\n",
       "  <tbody>\n",
       "    <tr>\n",
       "      <th>0</th>\n",
       "      <td>toby</td>\n",
       "      <td>C-</td>\n",
       "      <td>2.4</td>\n",
       "    </tr>\n",
       "    <tr>\n",
       "      <th>1</th>\n",
       "      <td>ray</td>\n",
       "      <td>A+</td>\n",
       "      <td>4.0</td>\n",
       "    </tr>\n",
       "    <tr>\n",
       "      <th>2</th>\n",
       "      <td>charlie</td>\n",
       "      <td>A</td>\n",
       "      <td>3.8</td>\n",
       "    </tr>\n",
       "    <tr>\n",
       "      <th>3</th>\n",
       "      <td>joe</td>\n",
       "      <td>B+</td>\n",
       "      <td>3.5</td>\n",
       "    </tr>\n",
       "    <tr>\n",
       "      <th>4</th>\n",
       "      <td>meg</td>\n",
       "      <td>A-</td>\n",
       "      <td>3.9</td>\n",
       "    </tr>\n",
       "  </tbody>\n",
       "</table>\n",
       "</div>"
      ],
      "text/plain": [
       "   student grade  gpa\n",
       "0     toby    C-  2.4\n",
       "1      ray    A+  4.0\n",
       "2  charlie     A  3.8\n",
       "3      joe    B+  3.5\n",
       "4      meg    A-  3.9"
      ]
     },
     "execution_count": 82,
     "metadata": {},
     "output_type": "execute_result"
    }
   ],
   "source": [
    "ex_df = pd.read_csv(r\"C:\\Users\\yq89_\\Desktop\\example.csv\")\n",
    "ex_df"
   ]
  },
  {
   "cell_type": "code",
   "execution_count": 83,
   "id": "f862842a",
   "metadata": {},
   "outputs": [],
   "source": [
    "ex_df.loc[0,\"student\"]=\"Toby Mac\""
   ]
  },
  {
   "cell_type": "code",
   "execution_count": 94,
   "id": "9c6d7755",
   "metadata": {},
   "outputs": [
    {
     "data": {
      "text/html": [
       "<div>\n",
       "<style scoped>\n",
       "    .dataframe tbody tr th:only-of-type {\n",
       "        vertical-align: middle;\n",
       "    }\n",
       "\n",
       "    .dataframe tbody tr th {\n",
       "        vertical-align: top;\n",
       "    }\n",
       "\n",
       "    .dataframe thead th {\n",
       "        text-align: right;\n",
       "    }\n",
       "</style>\n",
       "<table border=\"1\" class=\"dataframe\">\n",
       "  <thead>\n",
       "    <tr style=\"text-align: right;\">\n",
       "      <th></th>\n",
       "      <th>Unnamed: 0</th>\n",
       "      <th>student</th>\n",
       "      <th>grade</th>\n",
       "      <th>gpa</th>\n",
       "    </tr>\n",
       "  </thead>\n",
       "  <tbody>\n",
       "    <tr>\n",
       "      <th>0</th>\n",
       "      <td>0</td>\n",
       "      <td>Toby Mac</td>\n",
       "      <td>C-</td>\n",
       "      <td>2.4</td>\n",
       "    </tr>\n",
       "    <tr>\n",
       "      <th>1</th>\n",
       "      <td>1</td>\n",
       "      <td>ray</td>\n",
       "      <td>A+</td>\n",
       "      <td>4.0</td>\n",
       "    </tr>\n",
       "    <tr>\n",
       "      <th>2</th>\n",
       "      <td>2</td>\n",
       "      <td>charlie</td>\n",
       "      <td>A</td>\n",
       "      <td>3.8</td>\n",
       "    </tr>\n",
       "    <tr>\n",
       "      <th>3</th>\n",
       "      <td>3</td>\n",
       "      <td>joe</td>\n",
       "      <td>B+</td>\n",
       "      <td>3.5</td>\n",
       "    </tr>\n",
       "    <tr>\n",
       "      <th>4</th>\n",
       "      <td>4</td>\n",
       "      <td>meg</td>\n",
       "      <td>A-</td>\n",
       "      <td>3.9</td>\n",
       "    </tr>\n",
       "  </tbody>\n",
       "</table>\n",
       "</div>"
      ],
      "text/plain": [
       "   Unnamed: 0   student grade  gpa\n",
       "0           0  Toby Mac    C-  2.4\n",
       "1           1       ray    A+  4.0\n",
       "2           2   charlie     A  3.8\n",
       "3           3       joe    B+  3.5\n",
       "4           4       meg    A-  3.9"
      ]
     },
     "execution_count": 94,
     "metadata": {},
     "output_type": "execute_result"
    }
   ],
   "source": [
    "ex_df"
   ]
  },
  {
   "cell_type": "code",
   "execution_count": 91,
   "id": "0def6ea5",
   "metadata": {},
   "outputs": [],
   "source": [
    "ex_df.to_csv(r\"C:\\Users\\yq89_\\Desktop\\example.csv\",index=False)"
   ]
  },
  {
   "cell_type": "code",
   "execution_count": 92,
   "id": "e518dc83",
   "metadata": {},
   "outputs": [
    {
     "data": {
      "text/html": [
       "<div>\n",
       "<style scoped>\n",
       "    .dataframe tbody tr th:only-of-type {\n",
       "        vertical-align: middle;\n",
       "    }\n",
       "\n",
       "    .dataframe tbody tr th {\n",
       "        vertical-align: top;\n",
       "    }\n",
       "\n",
       "    .dataframe thead th {\n",
       "        text-align: right;\n",
       "    }\n",
       "</style>\n",
       "<table border=\"1\" class=\"dataframe\">\n",
       "  <thead>\n",
       "    <tr style=\"text-align: right;\">\n",
       "      <th></th>\n",
       "      <th>Unnamed: 0</th>\n",
       "      <th>student</th>\n",
       "      <th>grade</th>\n",
       "      <th>gpa</th>\n",
       "    </tr>\n",
       "  </thead>\n",
       "  <tbody>\n",
       "    <tr>\n",
       "      <th>0</th>\n",
       "      <td>0</td>\n",
       "      <td>Toby Mac</td>\n",
       "      <td>C-</td>\n",
       "      <td>2.4</td>\n",
       "    </tr>\n",
       "    <tr>\n",
       "      <th>1</th>\n",
       "      <td>1</td>\n",
       "      <td>ray</td>\n",
       "      <td>A+</td>\n",
       "      <td>4.0</td>\n",
       "    </tr>\n",
       "    <tr>\n",
       "      <th>2</th>\n",
       "      <td>2</td>\n",
       "      <td>charlie</td>\n",
       "      <td>A</td>\n",
       "      <td>3.8</td>\n",
       "    </tr>\n",
       "    <tr>\n",
       "      <th>3</th>\n",
       "      <td>3</td>\n",
       "      <td>joe</td>\n",
       "      <td>B+</td>\n",
       "      <td>3.5</td>\n",
       "    </tr>\n",
       "    <tr>\n",
       "      <th>4</th>\n",
       "      <td>4</td>\n",
       "      <td>meg</td>\n",
       "      <td>A-</td>\n",
       "      <td>3.9</td>\n",
       "    </tr>\n",
       "  </tbody>\n",
       "</table>\n",
       "</div>"
      ],
      "text/plain": [
       "   Unnamed: 0   student grade  gpa\n",
       "0           0  Toby Mac    C-  2.4\n",
       "1           1       ray    A+  4.0\n",
       "2           2   charlie     A  3.8\n",
       "3           3       joe    B+  3.5\n",
       "4           4       meg    A-  3.9"
      ]
     },
     "execution_count": 92,
     "metadata": {},
     "output_type": "execute_result"
    }
   ],
   "source": [
    "ex_df = pd.read_csv(r\"C:\\Users\\yq89_\\Desktop\\example.csv\")\n",
    "ex_df"
   ]
  },
  {
   "cell_type": "code",
   "execution_count": 93,
   "id": "c903073b",
   "metadata": {},
   "outputs": [],
   "source": [
    "mask = ex_df.loc[:,\"gpa\"] > 3.5"
   ]
  },
  {
   "cell_type": "code",
   "execution_count": 89,
   "id": "c58b9c54",
   "metadata": {},
   "outputs": [
    {
     "data": {
      "text/plain": [
       "3.9"
      ]
     },
     "execution_count": 89,
     "metadata": {},
     "output_type": "execute_result"
    }
   ],
   "source": [
    "ex_df[mask].loc[:,\"gpa\"].mean()"
   ]
  },
  {
   "cell_type": "code",
   "execution_count": 90,
   "id": "497195b8",
   "metadata": {},
   "outputs": [
    {
     "data": {
      "text/plain": [
       "3.9"
      ]
     },
     "execution_count": 90,
     "metadata": {},
     "output_type": "execute_result"
    }
   ],
   "source": [
    "ex_df[mask].iloc[:,3].mean()"
   ]
  },
  {
   "cell_type": "code",
   "execution_count": 98,
   "id": "4fa1cbf7",
   "metadata": {},
   "outputs": [
    {
     "data": {
      "text/html": [
       "<div>\n",
       "<style scoped>\n",
       "    .dataframe tbody tr th:only-of-type {\n",
       "        vertical-align: middle;\n",
       "    }\n",
       "\n",
       "    .dataframe tbody tr th {\n",
       "        vertical-align: top;\n",
       "    }\n",
       "\n",
       "    .dataframe thead th {\n",
       "        text-align: right;\n",
       "    }\n",
       "</style>\n",
       "<table border=\"1\" class=\"dataframe\">\n",
       "  <thead>\n",
       "    <tr style=\"text-align: right;\">\n",
       "      <th></th>\n",
       "      <th>student</th>\n",
       "      <th>grade</th>\n",
       "      <th>gpa</th>\n",
       "    </tr>\n",
       "  </thead>\n",
       "  <tbody>\n",
       "    <tr>\n",
       "      <th>0</th>\n",
       "      <td>toby</td>\n",
       "      <td>C-</td>\n",
       "      <td>2.4</td>\n",
       "    </tr>\n",
       "    <tr>\n",
       "      <th>1</th>\n",
       "      <td>ray</td>\n",
       "      <td>A+</td>\n",
       "      <td>4.0</td>\n",
       "    </tr>\n",
       "    <tr>\n",
       "      <th>2</th>\n",
       "      <td>charlie</td>\n",
       "      <td>A</td>\n",
       "      <td>3.8</td>\n",
       "    </tr>\n",
       "    <tr>\n",
       "      <th>3</th>\n",
       "      <td>joe</td>\n",
       "      <td>B+</td>\n",
       "      <td>3.5</td>\n",
       "    </tr>\n",
       "    <tr>\n",
       "      <th>4</th>\n",
       "      <td>meg</td>\n",
       "      <td>A-</td>\n",
       "      <td>3.9</td>\n",
       "    </tr>\n",
       "  </tbody>\n",
       "</table>\n",
       "</div>"
      ],
      "text/plain": [
       "   student grade  gpa\n",
       "0     toby    C-  2.4\n",
       "1      ray    A+  4.0\n",
       "2  charlie     A  3.8\n",
       "3      joe    B+  3.5\n",
       "4      meg    A-  3.9"
      ]
     },
     "execution_count": 98,
     "metadata": {},
     "output_type": "execute_result"
    }
   ],
   "source": [
    "excel = pd.read_excel(r\"C:\\Users\\yq89_\\Desktop\\example.xlsx\")\n",
    "excel"
   ]
  },
  {
   "cell_type": "code",
   "execution_count": 99,
   "id": "acc4c216",
   "metadata": {},
   "outputs": [],
   "source": [
    "excel_sheet_one = pd.read_excel(r\"C:\\Users\\yq89_\\Desktop\\example.xlsx\")\n",
    "excel_sheet_two = pd.read_excel(r\"C:\\Users\\yq89_\\Desktop\\example.xlsx\",1)"
   ]
  },
  {
   "cell_type": "code",
   "execution_count": 97,
   "id": "4b357dc4",
   "metadata": {},
   "outputs": [
    {
     "name": "stdout",
     "output_type": "stream",
     "text": [
      "Defaulting to user installation because normal site-packages is not writeable\n",
      "Collecting openpyxl\n",
      "  Downloading openpyxl-3.1.1-py2.py3-none-any.whl (249 kB)\n",
      "     ---------------------------------------- 0.0/249.8 kB ? eta -:--:--\n",
      "     -------------------------------------- 249.8/249.8 kB 7.7 MB/s eta 0:00:00\n",
      "Collecting et-xmlfile\n",
      "  Downloading et_xmlfile-1.1.0-py3-none-any.whl (4.7 kB)\n",
      "Installing collected packages: et-xmlfile, openpyxl\n",
      "Successfully installed et-xmlfile-1.1.0 openpyxl-3.1.1\n",
      "Note: you may need to restart the kernel to use updated packages.\n"
     ]
    }
   ],
   "source": [
    "pip install openpyxl"
   ]
  },
  {
   "cell_type": "code",
   "execution_count": 100,
   "id": "edd724f5",
   "metadata": {},
   "outputs": [
    {
     "data": {
      "text/html": [
       "<div>\n",
       "<style scoped>\n",
       "    .dataframe tbody tr th:only-of-type {\n",
       "        vertical-align: middle;\n",
       "    }\n",
       "\n",
       "    .dataframe tbody tr th {\n",
       "        vertical-align: top;\n",
       "    }\n",
       "\n",
       "    .dataframe thead th {\n",
       "        text-align: right;\n",
       "    }\n",
       "</style>\n",
       "<table border=\"1\" class=\"dataframe\">\n",
       "  <thead>\n",
       "    <tr style=\"text-align: right;\">\n",
       "      <th></th>\n",
       "      <th>student</th>\n",
       "      <th>grade</th>\n",
       "      <th>gpa</th>\n",
       "    </tr>\n",
       "  </thead>\n",
       "  <tbody>\n",
       "    <tr>\n",
       "      <th>0</th>\n",
       "      <td>toby</td>\n",
       "      <td>C-</td>\n",
       "      <td>2.4</td>\n",
       "    </tr>\n",
       "    <tr>\n",
       "      <th>1</th>\n",
       "      <td>ray</td>\n",
       "      <td>A+</td>\n",
       "      <td>4.0</td>\n",
       "    </tr>\n",
       "    <tr>\n",
       "      <th>2</th>\n",
       "      <td>charlie</td>\n",
       "      <td>A</td>\n",
       "      <td>3.8</td>\n",
       "    </tr>\n",
       "    <tr>\n",
       "      <th>3</th>\n",
       "      <td>joe</td>\n",
       "      <td>B+</td>\n",
       "      <td>3.5</td>\n",
       "    </tr>\n",
       "    <tr>\n",
       "      <th>4</th>\n",
       "      <td>meg</td>\n",
       "      <td>A-</td>\n",
       "      <td>3.9</td>\n",
       "    </tr>\n",
       "  </tbody>\n",
       "</table>\n",
       "</div>"
      ],
      "text/plain": [
       "   student grade  gpa\n",
       "0     toby    C-  2.4\n",
       "1      ray    A+  4.0\n",
       "2  charlie     A  3.8\n",
       "3      joe    B+  3.5\n",
       "4      meg    A-  3.9"
      ]
     },
     "execution_count": 100,
     "metadata": {},
     "output_type": "execute_result"
    }
   ],
   "source": [
    "excel_sheet_one"
   ]
  },
  {
   "cell_type": "code",
   "execution_count": 101,
   "id": "906d4374",
   "metadata": {},
   "outputs": [
    {
     "data": {
      "text/html": [
       "<div>\n",
       "<style scoped>\n",
       "    .dataframe tbody tr th:only-of-type {\n",
       "        vertical-align: middle;\n",
       "    }\n",
       "\n",
       "    .dataframe tbody tr th {\n",
       "        vertical-align: top;\n",
       "    }\n",
       "\n",
       "    .dataframe thead th {\n",
       "        text-align: right;\n",
       "    }\n",
       "</style>\n",
       "<table border=\"1\" class=\"dataframe\">\n",
       "  <thead>\n",
       "    <tr style=\"text-align: right;\">\n",
       "      <th></th>\n",
       "      <th>student</th>\n",
       "      <th>location</th>\n",
       "    </tr>\n",
       "  </thead>\n",
       "  <tbody>\n",
       "    <tr>\n",
       "      <th>0</th>\n",
       "      <td>toby</td>\n",
       "      <td>NYC</td>\n",
       "    </tr>\n",
       "    <tr>\n",
       "      <th>1</th>\n",
       "      <td>ray</td>\n",
       "      <td>Tampa</td>\n",
       "    </tr>\n",
       "    <tr>\n",
       "      <th>2</th>\n",
       "      <td>charlie</td>\n",
       "      <td>Orlando</td>\n",
       "    </tr>\n",
       "    <tr>\n",
       "      <th>3</th>\n",
       "      <td>joe</td>\n",
       "      <td>Indianapolis</td>\n",
       "    </tr>\n",
       "    <tr>\n",
       "      <th>4</th>\n",
       "      <td>meg</td>\n",
       "      <td>Seattle</td>\n",
       "    </tr>\n",
       "  </tbody>\n",
       "</table>\n",
       "</div>"
      ],
      "text/plain": [
       "   student      location\n",
       "0     toby           NYC\n",
       "1      ray         Tampa\n",
       "2  charlie       Orlando\n",
       "3      joe  Indianapolis\n",
       "4      meg       Seattle"
      ]
     },
     "execution_count": 101,
     "metadata": {},
     "output_type": "execute_result"
    }
   ],
   "source": [
    "excel_sheet_two"
   ]
  },
  {
   "cell_type": "code",
   "execution_count": 102,
   "id": "288f1c1b",
   "metadata": {},
   "outputs": [
    {
     "data": {
      "text/html": [
       "<div>\n",
       "<style scoped>\n",
       "    .dataframe tbody tr th:only-of-type {\n",
       "        vertical-align: middle;\n",
       "    }\n",
       "\n",
       "    .dataframe tbody tr th {\n",
       "        vertical-align: top;\n",
       "    }\n",
       "\n",
       "    .dataframe thead th {\n",
       "        text-align: right;\n",
       "    }\n",
       "</style>\n",
       "<table border=\"1\" class=\"dataframe\">\n",
       "  <thead>\n",
       "    <tr style=\"text-align: right;\">\n",
       "      <th></th>\n",
       "      <th>student</th>\n",
       "      <th>grade</th>\n",
       "      <th>gpa</th>\n",
       "      <th>location</th>\n",
       "    </tr>\n",
       "  </thead>\n",
       "  <tbody>\n",
       "    <tr>\n",
       "      <th>0</th>\n",
       "      <td>toby</td>\n",
       "      <td>C-</td>\n",
       "      <td>2.4</td>\n",
       "      <td>NYC</td>\n",
       "    </tr>\n",
       "    <tr>\n",
       "      <th>1</th>\n",
       "      <td>ray</td>\n",
       "      <td>A+</td>\n",
       "      <td>4.0</td>\n",
       "      <td>Tampa</td>\n",
       "    </tr>\n",
       "    <tr>\n",
       "      <th>2</th>\n",
       "      <td>charlie</td>\n",
       "      <td>A</td>\n",
       "      <td>3.8</td>\n",
       "      <td>Orlando</td>\n",
       "    </tr>\n",
       "    <tr>\n",
       "      <th>3</th>\n",
       "      <td>joe</td>\n",
       "      <td>B+</td>\n",
       "      <td>3.5</td>\n",
       "      <td>Indianapolis</td>\n",
       "    </tr>\n",
       "    <tr>\n",
       "      <th>4</th>\n",
       "      <td>meg</td>\n",
       "      <td>A-</td>\n",
       "      <td>3.9</td>\n",
       "      <td>Seattle</td>\n",
       "    </tr>\n",
       "  </tbody>\n",
       "</table>\n",
       "</div>"
      ],
      "text/plain": [
       "   student grade  gpa      location\n",
       "0     toby    C-  2.4           NYC\n",
       "1      ray    A+  4.0         Tampa\n",
       "2  charlie     A  3.8       Orlando\n",
       "3      joe    B+  3.5  Indianapolis\n",
       "4      meg    A-  3.9       Seattle"
      ]
     },
     "execution_count": 102,
     "metadata": {},
     "output_type": "execute_result"
    }
   ],
   "source": [
    "pd.merge(excel_sheet_one,excel_sheet_two, on=[\"student\",\"student\"], how=\"inner\")\n",
    "\n",
    "# inner or left or right  different join can be used in how"
   ]
  },
  {
   "cell_type": "code",
   "execution_count": null,
   "id": "2afc16b3",
   "metadata": {},
   "outputs": [],
   "source": []
  }
 ],
 "metadata": {
  "kernelspec": {
   "display_name": "Python 3 (ipykernel)",
   "language": "python",
   "name": "python3"
  },
  "language_info": {
   "codemirror_mode": {
    "name": "ipython",
    "version": 3
   },
   "file_extension": ".py",
   "mimetype": "text/x-python",
   "name": "python",
   "nbconvert_exporter": "python",
   "pygments_lexer": "ipython3",
   "version": "3.10.1"
  }
 },
 "nbformat": 4,
 "nbformat_minor": 5
}
